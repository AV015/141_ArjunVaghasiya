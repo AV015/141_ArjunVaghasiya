{
  "nbformat": 4,
  "nbformat_minor": 0,
  "metadata": {
    "colab": {
      "name": "ex3.ipynb",
      "provenance": []
    },
    "kernelspec": {
      "name": "python3",
      "display_name": "Python 3",
      "language": "python"
    },
    "language_info": {
      "name": "python",
      "version": "3.6.13",
      "mimetype": "text/x-python",
      "codemirror_mode": {
        "name": "ipython",
        "version": 3
      },
      "pygments_lexer": "ipython3",
      "nbconvert_exporter": "python",
      "file_extension": ".py"
    }
  },
  "cells": [
    {
      "cell_type": "code",
      "metadata": {
        "id": "fdY8Zi9XlpcT",
        "trusted": true
      },
      "source": [
        "import numpy as np\n",
        "import pandas as pd\n",
        "import matplotlib.pyplot as plt"
      ],
      "execution_count": 1,
      "outputs": []
    },
    {
      "cell_type": "markdown",
      "metadata": {
        "id": "fbw0BNZ1lpcW"
      },
      "source": [
        "1) Create Two numpy array of size 3 X 2 and 2 X 3\n",
        "2) Randomly Initalize that array"
      ]
    },
    {
      "cell_type": "code",
      "metadata": {
        "id": "B_paHCCglpcX",
        "trusted": true
      },
      "source": [
        "nparray1 = np.array([[3, 5], [5, 5], [6, 2]])\n",
        "nparray2 = np.array([[9, 9 , 5], [8, 1, 4]])"
      ],
      "execution_count": 2,
      "outputs": []
    },
    {
      "cell_type": "markdown",
      "metadata": {
        "id": "epbT2ezhlpcY"
      },
      "source": [
        "3) Perform matrix multiplication"
      ]
    },
    {
      "cell_type": "code",
      "metadata": {
        "colab": {
          "base_uri": "https://localhost:8080/"
        },
        "id": "FWf1oaX1lpcZ",
        "trusted": true,
        "outputId": "1af2bef6-e978-4ddd-fb0a-1c5be27a63cc"
      },
      "source": [
        "result1 = nparray1 @ nparray2        \n",
        "print(result1)"
      ],
      "execution_count": 3,
      "outputs": [
        {
          "output_type": "stream",
          "text": [
            "[[67 32 35]\n",
            " [85 50 45]\n",
            " [70 56 38]]\n"
          ],
          "name": "stdout"
        }
      ]
    },
    {
      "cell_type": "markdown",
      "metadata": {
        "id": "oGd1a3wNlpcb"
      },
      "source": [
        "4) Perform elementwise matrix multiplication"
      ]
    },
    {
      "cell_type": "code",
      "metadata": {
        "colab": {
          "base_uri": "https://localhost:8080/"
        },
        "id": "ipzEXbrolpcc",
        "trusted": true,
        "outputId": "cb8d4404-422c-474d-acfd-dc17d95967da"
      },
      "source": [
        "result2 = np.array([[0,0,0],\n",
        "         [0,0,0],\n",
        "         [0,0,0]])\n",
        "\n",
        "\n",
        "for i in range(len(nparray1)):\n",
        "   for j in range(len(nparray2[0])):\n",
        "       for k in range(len(nparray2)):\n",
        "           result2[i,j] += nparray1[i,k] * nparray2[k,j]\n",
        "\n",
        "\n",
        "print(result2)"
      ],
      "execution_count": 4,
      "outputs": [
        {
          "output_type": "stream",
          "text": [
            "[[67 32 35]\n",
            " [85 50 45]\n",
            " [70 56 38]]\n"
          ],
          "name": "stdout"
        }
      ]
    },
    {
      "cell_type": "markdown",
      "metadata": {
        "id": "M9Ni-MWRlpcd"
      },
      "source": [
        "5) Find mean of first matrix"
      ]
    },
    {
      "cell_type": "code",
      "metadata": {
        "colab": {
          "base_uri": "https://localhost:8080/"
        },
        "id": "G-cHjWK9lpce",
        "trusted": true,
        "outputId": "a61d6932-57d9-4355-f540-5bed2300442e"
      },
      "source": [
        "mean = np.mean(nparray1)\n",
        "print(mean)"
      ],
      "execution_count": 5,
      "outputs": [
        {
          "output_type": "stream",
          "text": [
            "4.333333333333333\n"
          ],
          "name": "stdout"
        }
      ]
    },
    {
      "cell_type": "markdown",
      "metadata": {
        "id": "WG22dHFalpcf"
      },
      "source": [
        "6) Convert Numeric entries(columns) of mtcars.csv to Mean Centered Version"
      ]
    },
    {
      "cell_type": "code",
      "metadata": {
        "colab": {
          "base_uri": "https://localhost:8080/"
        },
        "id": "iNK_Yjhrlpcg",
        "trusted": true,
        "outputId": "0fe1adcf-1b5b-4fa5-e641-083265f6407b"
      },
      "source": [
        "data=pd.read_csv('mtcars.csv')\n",
        "arr1= np.array(data['mpg'])\n",
        "nparrayCentered = arr1 - np.mean(arr1) \n",
        "print(nparrayCentered)"
      ],
      "execution_count": 6,
      "outputs": [
        {
          "output_type": "stream",
          "text": [
            "[ 0.909375  0.909375  2.709375  1.309375 -1.390625 -1.990625 -5.790625\n",
            "  4.309375  2.709375 -0.890625 -2.290625 -3.690625 -2.790625 -4.890625\n",
            " -9.690625 -9.690625 -5.390625 12.309375 10.309375 13.809375  1.409375\n",
            " -4.590625 -4.890625 -6.790625 -0.890625  7.209375  5.909375 10.309375\n",
            " -4.290625 -0.390625 -5.090625  1.309375]\n"
          ],
          "name": "stdout"
        }
      ]
    },
    {
      "cell_type": "code",
      "metadata": {
        "colab": {
          "base_uri": "https://localhost:8080/"
        },
        "id": "pOX1vBFQlpcg",
        "trusted": true,
        "outputId": "3a3d2fc7-4c99-444b-8aa2-bdec8a41299a"
      },
      "source": [
        "arr1= np.array(data['cyl'])\n",
        "nparrayCentered = arr1 - np.mean(arr1) \n",
        "print(nparrayCentered)"
      ],
      "execution_count": 7,
      "outputs": [
        {
          "output_type": "stream",
          "text": [
            "[-0.1875 -0.1875 -2.1875 -0.1875  1.8125 -0.1875  1.8125 -2.1875 -2.1875\n",
            " -0.1875 -0.1875  1.8125  1.8125  1.8125  1.8125  1.8125  1.8125 -2.1875\n",
            " -2.1875 -2.1875 -2.1875  1.8125  1.8125  1.8125  1.8125 -2.1875 -2.1875\n",
            " -2.1875  1.8125 -0.1875  1.8125 -2.1875]\n"
          ],
          "name": "stdout"
        }
      ]
    },
    {
      "cell_type": "code",
      "metadata": {
        "colab": {
          "base_uri": "https://localhost:8080/"
        },
        "id": "8CyXOdE1lpch",
        "trusted": true,
        "outputId": "61105f3c-cccb-438b-aee2-2cafecd68825"
      },
      "source": [
        "arr1= np.array(data['disp'])\n",
        "nparrayCentered = arr1 - np.mean(arr1) \n",
        "print(nparrayCentered)"
      ],
      "execution_count": 8,
      "outputs": [
        {
          "output_type": "stream",
          "text": [
            "[ -70.721875  -70.721875 -122.721875   27.278125  129.278125   -5.721875\n",
            "  129.278125  -84.021875  -89.921875  -63.121875  -63.121875   45.078125\n",
            "   45.078125   45.078125  241.278125  229.278125  209.278125 -152.021875\n",
            " -155.021875 -159.621875 -110.621875   87.278125   73.278125  119.278125\n",
            "  169.278125 -151.721875 -110.421875 -135.621875  120.278125  -85.721875\n",
            "   70.278125 -109.721875]\n"
          ],
          "name": "stdout"
        }
      ]
    },
    {
      "cell_type": "code",
      "metadata": {
        "colab": {
          "base_uri": "https://localhost:8080/"
        },
        "id": "fZtsJYxplpci",
        "trusted": true,
        "outputId": "7d44bdbf-ea67-4a89-f21e-fc98773e2f2f"
      },
      "source": [
        "arr1= np.array(data['hp'])\n",
        "nparrayCentered = arr1 - np.mean(arr1) \n",
        "print(nparrayCentered)"
      ],
      "execution_count": 9,
      "outputs": [
        {
          "output_type": "stream",
          "text": [
            "[-36.6875 -36.6875 -53.6875 -36.6875  28.3125 -41.6875  98.3125 -84.6875\n",
            " -51.6875 -23.6875 -23.6875  33.3125  33.3125  33.3125  58.3125  68.3125\n",
            "  83.3125 -80.6875 -94.6875 -81.6875 -49.6875   3.3125   3.3125  98.3125\n",
            "  28.3125 -80.6875 -55.6875 -33.6875 117.3125  28.3125 188.3125 -37.6875]\n"
          ],
          "name": "stdout"
        }
      ]
    },
    {
      "cell_type": "code",
      "metadata": {
        "colab": {
          "base_uri": "https://localhost:8080/"
        },
        "id": "eD-eKOFllpcj",
        "trusted": true,
        "outputId": "e39f762e-d4d7-427d-8592-6ba1730c2999"
      },
      "source": [
        "arr1= np.array(data['drat'])\n",
        "nparrayCentered = arr1 - np.mean(arr1) \n",
        "print(nparrayCentered)"
      ],
      "execution_count": 10,
      "outputs": [
        {
          "output_type": "stream",
          "text": [
            "[ 0.3034375  0.3034375  0.2534375 -0.5165625 -0.4465625 -0.8365625\n",
            " -0.3865625  0.0934375  0.3234375  0.3234375  0.3234375 -0.5265625\n",
            " -0.5265625 -0.5265625 -0.6665625 -0.5965625 -0.3665625  0.4834375\n",
            "  1.3334375  0.6234375  0.1034375 -0.8365625 -0.4465625  0.1334375\n",
            " -0.5165625  0.4834375  0.8334375  0.1734375  0.6234375  0.0234375\n",
            " -0.0565625  0.5134375]\n"
          ],
          "name": "stdout"
        }
      ]
    },
    {
      "cell_type": "code",
      "metadata": {
        "colab": {
          "base_uri": "https://localhost:8080/"
        },
        "id": "HIVOTGkVlpcj",
        "trusted": true,
        "outputId": "d40c4c38-11cc-4a73-f4f1-7d253935251a"
      },
      "source": [
        "arr1= np.array(data['wt'])\n",
        "nparrayCentered = arr1 - np.mean(arr1) \n",
        "print(nparrayCentered)"
      ],
      "execution_count": 11,
      "outputs": [
        {
          "output_type": "stream",
          "text": [
            "[-0.59725 -0.34225 -0.89725 -0.00225  0.22275  0.24275  0.35275 -0.02725\n",
            " -0.06725  0.22275  0.22275  0.85275  0.51275  0.56275  2.03275  2.20675\n",
            "  2.12775 -1.01725 -1.60225 -1.38225 -0.75225  0.30275  0.21775  0.62275\n",
            "  0.62775 -1.28225 -1.07725 -1.70425 -0.04725 -0.44725  0.35275 -0.43725]\n"
          ],
          "name": "stdout"
        }
      ]
    },
    {
      "cell_type": "code",
      "metadata": {
        "colab": {
          "base_uri": "https://localhost:8080/"
        },
        "id": "ae7E2sU1lpck",
        "trusted": true,
        "outputId": "abba6dfd-2f75-4daf-f9b5-9823a226438a"
      },
      "source": [
        "arr1= np.array(data['qsec'])\n",
        "nparrayCentered = arr1 - np.mean(arr1) \n",
        "print(nparrayCentered)"
      ],
      "execution_count": 12,
      "outputs": [
        {
          "output_type": "stream",
          "text": [
            "[-1.38875 -0.82875  0.76125  1.59125 -0.82875  2.37125 -2.00875  2.15125\n",
            "  5.05125  0.45125  1.05125 -0.44875 -0.24875  0.15125  0.13125 -0.02875\n",
            " -0.42875  1.62125  0.67125  2.05125  2.16125 -0.97875 -0.54875 -2.43875\n",
            " -0.79875  1.05125 -1.14875 -0.94875 -3.34875 -2.34875 -3.24875  0.75125]\n"
          ],
          "name": "stdout"
        }
      ]
    },
    {
      "cell_type": "code",
      "metadata": {
        "colab": {
          "base_uri": "https://localhost:8080/"
        },
        "id": "Dvuv9t_2lpck",
        "trusted": true,
        "outputId": "2e761eb2-ebf1-4ebe-d723-f9784f4ecba8"
      },
      "source": [
        "arr1= np.array(data['vs'])\n",
        "nparrayCentered = arr1 - np.mean(arr1) \n",
        "print(nparrayCentered)"
      ],
      "execution_count": 13,
      "outputs": [
        {
          "output_type": "stream",
          "text": [
            "[-0.4375 -0.4375  0.5625  0.5625 -0.4375  0.5625 -0.4375  0.5625  0.5625\n",
            "  0.5625  0.5625 -0.4375 -0.4375 -0.4375 -0.4375 -0.4375 -0.4375  0.5625\n",
            "  0.5625  0.5625  0.5625 -0.4375 -0.4375 -0.4375 -0.4375  0.5625 -0.4375\n",
            "  0.5625 -0.4375 -0.4375 -0.4375  0.5625]\n"
          ],
          "name": "stdout"
        }
      ]
    },
    {
      "cell_type": "code",
      "metadata": {
        "colab": {
          "base_uri": "https://localhost:8080/"
        },
        "id": "4kbtqBiFlpcl",
        "trusted": true,
        "outputId": "53640e77-9d60-47ff-cdee-a575e8a3f121"
      },
      "source": [
        "arr1= np.array(data['am'])\n",
        "nparrayCentered = arr1 - np.mean(arr1) \n",
        "print(nparrayCentered)"
      ],
      "execution_count": 14,
      "outputs": [
        {
          "output_type": "stream",
          "text": [
            "[ 0.59375  0.59375  0.59375 -0.40625 -0.40625 -0.40625 -0.40625 -0.40625\n",
            " -0.40625 -0.40625 -0.40625 -0.40625 -0.40625 -0.40625 -0.40625 -0.40625\n",
            " -0.40625  0.59375  0.59375  0.59375 -0.40625 -0.40625 -0.40625 -0.40625\n",
            " -0.40625  0.59375  0.59375  0.59375  0.59375  0.59375  0.59375  0.59375]\n"
          ],
          "name": "stdout"
        }
      ]
    },
    {
      "cell_type": "code",
      "metadata": {
        "colab": {
          "base_uri": "https://localhost:8080/"
        },
        "id": "IL8xiaHrlpcl",
        "trusted": true,
        "outputId": "227edfbd-43c9-4af9-a69f-6d5f731bfb4f"
      },
      "source": [
        "arr1= np.array(data['gear'])\n",
        "nparrayCentered = arr1 - np.mean(arr1) \n",
        "print(nparrayCentered)"
      ],
      "execution_count": 15,
      "outputs": [
        {
          "output_type": "stream",
          "text": [
            "[ 0.3125  0.3125  0.3125 -0.6875 -0.6875 -0.6875 -0.6875  0.3125  0.3125\n",
            "  0.3125  0.3125 -0.6875 -0.6875 -0.6875 -0.6875 -0.6875 -0.6875  0.3125\n",
            "  0.3125  0.3125 -0.6875 -0.6875 -0.6875 -0.6875 -0.6875  0.3125  1.3125\n",
            "  1.3125  1.3125  1.3125  1.3125  0.3125]\n"
          ],
          "name": "stdout"
        }
      ]
    },
    {
      "cell_type": "code",
      "metadata": {
        "colab": {
          "base_uri": "https://localhost:8080/"
        },
        "id": "g38-dCiKlpcl",
        "trusted": true,
        "outputId": "40568818-990f-46b3-fe93-b5d410c81d09"
      },
      "source": [
        "arr1= np.array(data['carb'])\n",
        "nparrayCentered = arr1 - np.mean(arr1) \n",
        "print(nparrayCentered)"
      ],
      "execution_count": 17,
      "outputs": [
        {
          "output_type": "stream",
          "text": [
            "[ 1.1875  1.1875 -1.8125 -1.8125 -0.8125 -1.8125  1.1875 -0.8125 -0.8125\n",
            "  1.1875  1.1875  0.1875  0.1875  0.1875  1.1875  1.1875  1.1875 -1.8125\n",
            " -0.8125 -1.8125 -1.8125 -0.8125 -0.8125  1.1875 -0.8125 -1.8125 -0.8125\n",
            " -0.8125  1.1875  3.1875  5.1875 -0.8125]\n"
          ],
          "name": "stdout"
        }
      ]
    }
  ]
}