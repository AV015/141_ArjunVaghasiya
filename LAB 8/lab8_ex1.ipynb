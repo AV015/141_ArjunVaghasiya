{
  "nbformat": 4,
  "nbformat_minor": 0,
  "metadata": {
    "colab": {
      "name": "Untitled0.ipynb",
      "provenance": []
    },
    "kernelspec": {
      "name": "python3",
      "display_name": "Python 3"
    },
    "language_info": {
      "name": "python"
    }
  },
  "cells": [
    {
      "cell_type": "code",
      "metadata": {
        "id": "wPRfyQdlUqPF"
      },
      "source": [
        "import numpy as np \n",
        "import pandas as pd \n",
        "from sklearn import datasets\n",
        "from sklearn.cluster import KMeans\n",
        "import matplotlib.pyplot as plt"
      ],
      "execution_count": 1,
      "outputs": []
    },
    {
      "cell_type": "code",
      "metadata": {
        "colab": {
          "base_uri": "https://localhost:8080/"
        },
        "id": "sViF8LmOU0cM",
        "outputId": "48ed0991-7f57-4a74-e10c-6ef5f31bcc8f"
      },
      "source": [
        "dataset=datasets.load_breast_cancer()\n",
        "dataset\n",
        "\n",
        "print(dataset.data.shape)\n",
        "print(dataset.target.shape)"
      ],
      "execution_count": 2,
      "outputs": [
        {
          "output_type": "stream",
          "name": "stdout",
          "text": [
            "(569, 30)\n",
            "(569,)\n"
          ]
        }
      ]
    },
    {
      "cell_type": "code",
      "metadata": {
        "colab": {
          "base_uri": "https://localhost:8080/"
        },
        "id": "ifszPWFoU2VT",
        "outputId": "9f01f635-6e87-4ca6-92b9-8ba061ba5806"
      },
      "source": [
        "kmeans = KMeans(n_clusters=10, random_state=141)\n",
        "prediction = kmeans.fit_predict(dataset.data)\n",
        "print(prediction)\n",
        "\n",
        "kmeans.cluster_centers_.shape\n",
        "print(kmeans.cluster_centers_)"
      ],
      "execution_count": 3,
      "outputs": [
        {
          "output_type": "stream",
          "name": "stdout",
          "text": [
            "[9 9 9 1 3 4 3 4 4 4 0 5 5 0 4 0 0 5 6 4 1 7 0 6 6 5 0 3 5 5 3 4 5 9 5 5 4\n",
            " 1 4 4 4 1 3 4 4 3 7 4 1 4 1 4 1 5 0 1 6 0 1 7 7 7 0 7 4 0 7 1 7 1 9 7 3 4\n",
            " 1 5 1 3 3 1 1 1 2 5 1 3 4 3 1 4 4 4 4 4 0 9 1 7 1 4 4 7 1 7 7 4 1 1 6 1 7\n",
            " 1 4 7 7 1 7 0 5 5 1 3 6 4 1 4 4 3 4 3 1 0 5 0 3 1 1 1 0 7 7 5 1 1 7 1 1 4\n",
            " 4 4 1 7 7 7 4 1 5 0 1 1 1 3 6 1 6 4 7 5 3 4 1 0 0 7 7 7 7 0 1 1 2 6 5 1 0\n",
            " 7 5 1 1 1 4 1 7 4 4 1 4 5 3 0 1 5 6 0 1 0 7 5 1 0 9 1 2 0 4 4 1 7 9 6 4 4\n",
            " 7 0 4 4 7 4 1 4 5 1 1 9 7 4 2 9 4 5 4 1 1 4 3 7 1 1 7 1 6 1 9 5 9 4 9 0 5\n",
            " 0 9 5 5 0 5 2 7 4 1 7 4 1 6 7 5 1 1 5 4 4 9 1 3 0 1 1 1 1 7 1 4 4 1 1 1 4\n",
            " 7 1 4 7 6 1 9 7 1 1 1 7 4 4 1 4 1 1 7 1 1 3 7 1 7 9 1 9 1 1 4 1 0 0 0 1 7\n",
            " 1 1 5 1 9 7 2 4 7 7 3 1 7 1 0 1 1 1 0 2 0 1 1 1 4 7 7 1 1 1 0 4 9 9 1 2 6\n",
            " 5 4 3 9 4 0 7 4 4 1 1 7 1 1 1 4 1 4 1 5 7 7 5 6 1 4 4 1 1 1 5 1 1 1 1 1 0\n",
            " 1 5 1 1 1 7 0 0 1 7 3 1 1 1 4 1 4 7 7 7 1 7 1 4 1 3 3 4 4 1 4 4 4 1 5 4 7\n",
            " 5 1 5 4 4 6 1 3 1 4 1 4 1 1 1 7 3 8 4 1 4 4 4 7 5 1 7 1 0 1 7 1 4 4 1 0 1\n",
            " 4 4 4 0 1 4 9 1 0 1 5 5 1 4 4 1 1 3 9 4 4 1 2 7 7 1 7 0 0 1 4 4 4 0 1 3 3\n",
            " 1 1 7 2 7 4 7 7 4 1 4 1 1 1 4 9 7 9 4 1 7 7 1 4 4 1 4 4 7 7 7 1 7 7 1 7 1\n",
            " 7 7 7 4 1 4 7 0 9 6 9 0 9 7]\n",
            "[[1.54638000e+01 2.02392000e+01 1.01397600e+02 7.40524000e+02\n",
            "  1.00539400e-01 1.25822000e-01 1.23348200e-01 6.54630000e-02\n",
            "  1.85918000e-01 6.26102000e-02 3.90868000e-01 1.03997400e+00\n",
            "  2.75976000e+00 3.72140000e+01 6.65860000e-03 2.82472800e-02\n",
            "  3.78898000e-02 1.35351000e-02 1.91477200e-02 3.67792000e-03\n",
            "  1.80026000e+01 2.75786000e+01 1.19620000e+02 9.92134000e+02\n",
            "  1.41392800e-01 3.39973200e-01 3.95144000e-01 1.54146800e-01\n",
            "  3.16380000e-01 9.00534000e-02]\n",
            " [1.21398295e+01 1.81243750e+01 7.80391477e+01 4.53930682e+02\n",
            "  9.30579545e-02 7.96476705e-02 4.52235324e-02 2.59481023e-02\n",
            "  1.74372727e-01 6.23869886e-02 2.76667614e-01 1.19831080e+00\n",
            "  1.96479489e+00 2.04931250e+01 6.79651136e-03 2.03912898e-02\n",
            "  2.40284352e-02 9.64013636e-03 2.03964205e-02 3.30967330e-03\n",
            "  1.34010227e+01 2.41963068e+01 8.71398295e+01 5.49269318e+02\n",
            "  1.26916705e-01 1.92223466e-01 1.75752653e-01 7.78560852e-02\n",
            "  2.78232386e-01 7.95895455e-02]\n",
            " [2.43160000e+01 2.23750000e+01 1.61910000e+02 1.85420000e+03\n",
            "  1.03174000e-01 1.68032000e-01 2.35580000e-01 1.40631000e-01\n",
            "  1.79210000e-01 5.89640000e-02 1.23297000e+00 1.14835000e+00\n",
            "  8.82800000e+00 1.99120000e+02 6.61970000e-03 2.92370000e-02\n",
            "  3.93590000e-02 1.50810000e-02 1.95370000e-02 3.44310000e-03\n",
            "  3.09990000e+01 2.98160000e+01 2.08940000e+02 2.93600000e+03\n",
            "  1.40180000e-01 3.64520000e-01 4.68620000e-01 2.28060000e-01\n",
            "  2.76880000e-01 8.10070000e-02]\n",
            " [1.88412903e+01 2.08529032e+01 1.24458065e+02 1.10735484e+03\n",
            "  1.01000645e-01 1.45183226e-01 1.69226129e-01 9.44045161e-02\n",
            "  1.93732258e-01 6.06561290e-02 6.93358065e-01 1.21639032e+00\n",
            "  4.80367742e+00 8.31535484e+01 7.10645161e-03 3.25745161e-02\n",
            "  4.42161290e-02 1.58796129e-02 2.24774194e-02 4.07090323e-03\n",
            "  2.27396774e+01 2.78877419e+01 1.51754839e+02 1.57948387e+03\n",
            "  1.41458065e-01 3.53441935e-01 4.44967742e-01 1.82958065e-01\n",
            "  3.17277419e-01 8.69696774e-02]\n",
            " [1.39387395e+01 1.90294958e+01 9.04831933e+01 6.00262185e+02\n",
            "  9.39314286e-02 1.00406387e-01 7.45220756e-02 4.14941345e-02\n",
            "  1.75155462e-01 6.16680672e-02 3.13209244e-01 1.08587899e+00\n",
            "  2.26420084e+00 2.71161345e+01 5.84906723e-03 2.42642689e-02\n",
            "  2.82606723e-02 1.11375714e-02 1.78284202e-02 3.49648571e-03\n",
            "  1.57033613e+01 2.55010924e+01 1.03702605e+02 7.57455462e+02\n",
            "  1.28325294e-01 2.62771765e-01 2.65218908e-01 1.12402101e-01\n",
            "  2.83356303e-01 8.43820168e-02]\n",
            " [1.72356818e+01 2.13061364e+01 1.13577273e+02 9.26304545e+02\n",
            "  9.97227273e-02 1.34907727e-01 1.40564773e-01 8.18825000e-02\n",
            "  1.91265909e-01 6.10906818e-02 5.69913636e-01 1.27622500e+00\n",
            "  4.09922727e+00 6.23170455e+01 6.30725000e-03 3.03690227e-02\n",
            "  3.72981818e-02 1.49015227e-02 1.99822727e-02 4.04552273e-03\n",
            "  2.05165909e+01 2.85836364e+01 1.36543182e+02 1.29377273e+03\n",
            "  1.38530455e-01 3.25812727e-01 3.90106818e-01 1.70242500e-01\n",
            "  3.14615909e-01 8.56718182e-02]\n",
            " [2.10344444e+01 2.23027778e+01 1.40083333e+02 1.38520000e+03\n",
            "  1.07590556e-01 1.71383333e-01 2.29533333e-01 1.25373889e-01\n",
            "  1.96161111e-01 6.11827778e-02 8.77011111e-01 1.22351667e+00\n",
            "  6.10694444e+00 1.20189444e+02 6.86916667e-03 3.70794444e-02\n",
            "  5.24883333e-02 1.63344444e-02 1.90444444e-02 4.04333333e-03\n",
            "  2.68150000e+01 2.99322222e+01 1.79777778e+02 2.21094444e+03\n",
            "  1.46622222e-01 4.12144444e-01 5.62061111e-01 2.27061111e-01\n",
            "  3.17122222e-01 8.78872222e-02]\n",
            " [9.87515385e+00 1.78310989e+01 6.31275824e+01 2.99732967e+02\n",
            "  9.64635165e-02 8.09469231e-02 4.46973846e-02 1.89206154e-02\n",
            "  1.83812088e-01 6.83807692e-02 2.95191209e-01 1.51460549e+00\n",
            "  2.02103187e+00 1.79611868e+01 9.95848352e-03 2.56543407e-02\n",
            "  3.31990110e-02 1.02651538e-02 2.54141758e-02 4.97217582e-03\n",
            "  1.08238352e+01 2.29446154e+01 6.97957143e+01 3.58796703e+02\n",
            "  1.31465934e-01 1.64161758e-01 1.40192637e-01 5.34132967e-02\n",
            "  2.73173626e-01 8.52007692e-02]\n",
            " [2.74200000e+01 2.62700000e+01 1.86900000e+02 2.50100000e+03\n",
            "  1.08400000e-01 1.98800000e-01 3.63500000e-01 1.68900000e-01\n",
            "  2.06100000e-01 5.62300000e-02 2.54700000e+00 1.30600000e+00\n",
            "  1.86500000e+01 5.42200000e+02 7.65000000e-03 5.37400000e-02\n",
            "  8.05500000e-02 2.59800000e-02 1.69700000e-02 4.55800000e-03\n",
            "  3.60400000e+01 3.13700000e+01 2.51200000e+02 4.25400000e+03\n",
            "  1.35700000e-01 4.25600000e-01 6.83300000e-01 2.62500000e-01\n",
            "  2.64100000e-01 7.42700000e-02]\n",
            " [1.99872414e+01 2.24634483e+01 1.32082759e+02 1.23948276e+03\n",
            "  9.90420690e-02 1.49853793e-01 1.78714138e-01 1.02554828e-01\n",
            "  1.92231034e-01 6.01579310e-02 7.22017241e-01 1.16430000e+00\n",
            "  5.08644828e+00 8.98793103e+01 6.19410345e-03 3.15258621e-02\n",
            "  4.16948276e-02 1.58737241e-02 1.98613793e-02 3.73731034e-03\n",
            "  2.44286207e+01 2.96468966e+01 1.63210345e+02 1.81672414e+03\n",
            "  1.38600000e-01 3.74358621e-01 4.62817241e-01 1.99031034e-01\n",
            "  3.19555172e-01 8.71751724e-02]]\n"
          ]
        }
      ]
    },
    {
      "cell_type": "code",
      "metadata": {
        "colab": {
          "base_uri": "https://localhost:8080/",
          "height": 197
        },
        "id": "6nqGPxc5U_LU",
        "outputId": "323215a9-6cd8-41ab-81b5-f55f6fdc46a1"
      },
      "source": [
        "# Scatter plot of the data points\n",
        "import matplotlib.pyplot as plt\n",
        "fig, ax = plt.subplots(2, 5, figsize=(8, 3))\n",
        "centers = kmeans.cluster_centers_.reshape(10, 6, 5)\n",
        "for axi, center in zip(ax.flat, centers):\n",
        "  axi.set(xticks=[], yticks=[])\n",
        "  axi.imshow(center, interpolation='nearest', cmap=plt.cm.binary)"
      ],
      "execution_count": 4,
      "outputs": [
        {
          "output_type": "display_data",
          "data": {
            "image/png": "[encoded data removed]",
            "text/plain": [
              "<Figure size 576x216 with 10 Axes>"
            ]
          },
          "metadata": {}
        }
      ]
    },
    {
      "cell_type": "code",
      "metadata": {
        "id": "0wV-ljxVVGNL"
      },
      "source": [
        "import numpy as np\n",
        "from scipy.stats import mode\n",
        "labels = np.zeros_like(prediction)\n",
        "for i in range(10):\n",
        "  mask = (prediction == i)\n",
        "  labels[mask] = mode(dataset.target[mask])[0]"
      ],
      "execution_count": 5,
      "outputs": []
    },
    {
      "cell_type": "code",
      "metadata": {
        "colab": {
          "base_uri": "https://localhost:8080/"
        },
        "id": "gWxbKVV-VJsH",
        "outputId": "73e7c0d5-1dcc-4a9a-af32-bc04d63f755e"
      },
      "source": [
        "from sklearn.metrics import accuracy_score\n",
        "accuracy_score(dataset.target, labels)"
      ],
      "execution_count": 6,
      "outputs": [
        {
          "output_type": "execute_result",
          "data": {
            "text/plain": [
              "0.9068541300527241"
            ]
          },
          "metadata": {},
          "execution_count": 6
        }
      ]
    },
    {
      "cell_type": "code",
      "metadata": {
        "colab": {
          "base_uri": "https://localhost:8080/",
          "height": 279
        },
        "id": "aPqv5rreVNF1",
        "outputId": "3f415010-22a9-4340-e644-8c1481a1cf3a"
      },
      "source": [
        "from sklearn.metrics import confusion_matrix\n",
        "import seaborn as sns\n",
        "mat = confusion_matrix(dataset.target, labels)\n",
        "ax = sns.heatmap(mat.T, square=True, annot=True, fmt='d', cbar=False,xticklabels=dataset.target_names,yticklabels=dataset.target_names)\n",
        "\n",
        "#ax.set_ylim(10,10)\n",
        "plt.xlabel('true label')\n",
        "plt.ylabel('predicted label');"
      ],
      "execution_count": 7,
      "outputs": [
        {
          "output_type": "display_data",
          "data": {
            "image/png": "[encoded data removed]",
            "text/plain": [
              "<Figure size 432x288 with 1 Axes>"
            ]
          },
          "metadata": {
            "needs_background": "light"
          }
        }
      ]
    }
  ]
}