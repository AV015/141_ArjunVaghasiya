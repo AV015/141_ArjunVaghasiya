{
  "nbformat": 4,
  "nbformat_minor": 0,
  "metadata": {
    "kernelspec": {
      "display_name": "Python 3",
      "language": "python",
      "name": "python3"
    },
    "language_info": {
      "codemirror_mode": {
        "name": "ipython",
        "version": 3
      },
      "file_extension": ".py",
      "mimetype": "text/x-python",
      "name": "python",
      "nbconvert_exporter": "python",
      "pygments_lexer": "ipython3",
      "version": "3.8.3"
    },
    "colab": {
      "name": "ex2.ipynb",
      "provenance": []
    }
  },
  "cells": [
    {
      "cell_type": "markdown",
      "metadata": {
        "id": "J1ilwzgdZVx_"
      },
      "source": [
        "#Task2: Try Linear regression on same prediction data using Tensorflow"
      ]
    },
    {
      "cell_type": "code",
      "metadata": {
        "id": "LmJfRlyJZQrC"
      },
      "source": [
        "import numpy as np\n",
        "import tensorflow as tf"
      ],
      "execution_count": 1,
      "outputs": []
    },
    {
      "cell_type": "code",
      "metadata": {
        "id": "-5YncrZRZQrH"
      },
      "source": [
        "inputs = np.array([[73, 67, 43], [91, 88, 64], [87, 134, 58], [102, 43, 37], [69, 96, 70],[73, 67, 43], [91, 88, 64], \n",
        "                   [87, 134, 58], [102, 43, 37], [69, 96, 70], [73, 67, 43], [91, 88, 64], [87, 134, 58], [102, 43, 37], \n",
        "                   [69, 96, 70]], dtype='float64')\n",
        "\n",
        "targets = np.array([[56, 70], [81, 101], [119, 133], [22, 37], [103, 119],[56, 70], [81, 101], [119, 133], [22, 37], \n",
        "                    [103, 119],[56, 70], [81, 101], [119, 133], [22, 37], [103, 119]], dtype='float64')"
      ],
      "execution_count": 2,
      "outputs": []
    },
    {
      "cell_type": "code",
      "metadata": {
        "colab": {
          "base_uri": "https://localhost:8080/"
        },
        "id": "DVu7ljiDZQrI",
        "outputId": "abc8b088-9861-4a7d-de29-9c34111f48bc"
      },
      "source": [
        "inputs = tf.Variable(inputs)\n",
        "targets = tf.Variable(targets)\n",
        "print(\"targets :\\n\",targets)"
      ],
      "execution_count": 3,
      "outputs": [
        {
          "output_type": "stream",
          "text": [
            "targets :\n",
            " <tf.Variable 'Variable:0' shape=(15, 2) dtype=float64, numpy=\n",
            "array([[ 56.,  70.],\n",
            "       [ 81., 101.],\n",
            "       [119., 133.],\n",
            "       [ 22.,  37.],\n",
            "       [103., 119.],\n",
            "       [ 56.,  70.],\n",
            "       [ 81., 101.],\n",
            "       [119., 133.],\n",
            "       [ 22.,  37.],\n",
            "       [103., 119.],\n",
            "       [ 56.,  70.],\n",
            "       [ 81., 101.],\n",
            "       [119., 133.],\n",
            "       [ 22.,  37.],\n",
            "       [103., 119.]])>\n"
          ],
          "name": "stdout"
        }
      ]
    },
    {
      "cell_type": "code",
      "metadata": {
        "colab": {
          "base_uri": "https://localhost:8080/"
        },
        "id": "5wlZ_7VMZQrK",
        "outputId": "3961da90-b42e-4f8e-c676-33085f6aa1cb"
      },
      "source": [
        "v = np.random.rand(3,2)\n",
        "r = np.random.randn(2)\n",
        "v = tf.Variable(v)\n",
        "r = tf.Variable(r)\n",
        "\n",
        "print(v)\n",
        "print(\"\\n\",r)"
      ],
      "execution_count": 4,
      "outputs": [
        {
          "output_type": "stream",
          "text": [
            "<tf.Variable 'Variable:0' shape=(3, 2) dtype=float64, numpy=\n",
            "array([[0.60136349, 0.96603345],\n",
            "       [0.27617597, 0.7360144 ],\n",
            "       [0.68205516, 0.11875466]])>\n",
            "\n",
            " <tf.Variable 'Variable:0' shape=(2,) dtype=float64, numpy=array([ 1.08262731, -0.25172554])>\n"
          ],
          "name": "stdout"
        }
      ]
    },
    {
      "cell_type": "code",
      "metadata": {
        "id": "E_oL9WFhZQrL"
      },
      "source": [
        "def model(s):\n",
        "    return s @ v + r"
      ],
      "execution_count": 5,
      "outputs": []
    },
    {
      "cell_type": "code",
      "metadata": {
        "colab": {
          "base_uri": "https://localhost:8080/"
        },
        "id": "KbI3OOQmZQrL",
        "outputId": "3d7b004b-f870-4090-b2ed-c45a6e5b280d"
      },
      "source": [
        "prediction = model(inputs)\n",
        "print(prediction)"
      ],
      "execution_count": 6,
      "outputs": [
        {
          "output_type": "stream",
          "text": [
            "tf.Tensor(\n",
            "[[ 92.81432401 124.68813144]\n",
            " [123.76172056 160.02688383]\n",
            " [129.96803036 189.30688459]\n",
            " [ 99.53331095 134.32622773]\n",
            " [116.8334625  145.37479122]\n",
            " [ 92.81432401 124.68813144]\n",
            " [123.76172056 160.02688383]\n",
            " [129.96803036 189.30688459]\n",
            " [ 99.53331095 134.32622773]\n",
            " [116.8334625  145.37479122]\n",
            " [ 92.81432401 124.68813144]\n",
            " [123.76172056 160.02688383]\n",
            " [129.96803036 189.30688459]\n",
            " [ 99.53331095 134.32622773]\n",
            " [116.8334625  145.37479122]], shape=(15, 2), dtype=float64)\n"
          ],
          "name": "stdout"
        }
      ]
    },
    {
      "cell_type": "code",
      "metadata": {
        "colab": {
          "base_uri": "https://localhost:8080/"
        },
        "id": "JmIALX3KZQrM",
        "outputId": "01a24c9b-f29e-4f87-af87-2ed7b4f6756a"
      },
      "source": [
        "def mse(t1,t2):\n",
        "    return tf.reduce_mean(tf.square(t1 - t2))\n",
        "print(mse(prediction,targets))"
      ],
      "execution_count": 7,
      "outputs": [
        {
          "output_type": "stream",
          "text": [
            "tf.Tensor(2932.0390082102685, shape=(), dtype=float64)\n"
          ],
          "name": "stdout"
        }
      ]
    },
    {
      "cell_type": "code",
      "metadata": {
        "colab": {
          "base_uri": "https://localhost:8080/"
        },
        "id": "7qbjDtJ1ZQrN",
        "outputId": "5b06b70c-213f-475f-b2ce-db3549a59905"
      },
      "source": [
        "epochs = 40\n",
        "for epoch_count in range(epochs):\n",
        "    \n",
        "    with tf.GradientTape(persistent=True) as t:\n",
        "        current_loss = mse(targets, model(inputs))\n",
        "\n",
        "    v1 = t.gradient(current_loss,v)\n",
        "    r1 = t.gradient(current_loss,r)\n",
        "\n",
        "    v.assign_sub(1e-4 * v1)\n",
        "    r.assign_sub(1e-4 * r1)\n",
        "        \n",
        "    print(f\" \\n Epoch count: {epoch_count} \\n Loss value: {current_loss.numpy()}\")\n"
      ],
      "execution_count": 8,
      "outputs": [
        {
          "output_type": "stream",
          "text": [
            " \n",
            " Epoch count: 0 \n",
            " Loss value: 2932.0390082102685\n",
            " \n",
            " Epoch count: 1 \n",
            " Loss value: 2041.1896931000208\n",
            " \n",
            " Epoch count: 2 \n",
            " Loss value: 1460.1646168535442\n",
            " \n",
            " Epoch count: 3 \n",
            " Loss value: 1075.8425817655218\n",
            " \n",
            " Epoch count: 4 \n",
            " Loss value: 817.1029298295241\n",
            " \n",
            " Epoch count: 5 \n",
            " Loss value: 639.143599594669\n",
            " \n",
            " Epoch count: 6 \n",
            " Loss value: 513.6652632419328\n",
            " \n",
            " Epoch count: 7 \n",
            " Loss value: 422.72591027263957\n",
            " \n",
            " Epoch count: 8 \n",
            " Loss value: 354.8922184677551\n",
            " \n",
            " Epoch count: 9 \n",
            " Loss value: 302.82828636001454\n",
            " \n",
            " Epoch count: 10 \n",
            " Loss value: 261.7840125097321\n",
            " \n",
            " Epoch count: 11 \n",
            " Loss value: 228.6466755469572\n",
            " \n",
            " Epoch count: 12 \n",
            " Loss value: 201.34518842349686\n",
            " \n",
            " Epoch count: 13 \n",
            " Loss value: 178.4752808375304\n",
            " \n",
            " Epoch count: 14 \n",
            " Loss value: 159.0631536565778\n",
            " \n",
            " Epoch count: 15 \n",
            " Loss value: 142.41598916767413\n",
            " \n",
            " Epoch count: 16 \n",
            " Loss value: 128.0269982810383\n",
            " \n",
            " Epoch count: 17 \n",
            " Loss value: 115.51476156039621\n",
            " \n",
            " Epoch count: 18 \n",
            " Loss value: 104.5841785056222\n",
            " \n",
            " Epoch count: 19 \n",
            " Loss value: 95.0010701319349\n",
            " \n",
            " Epoch count: 20 \n",
            " Loss value: 86.57544166561551\n",
            " \n",
            " Epoch count: 21 \n",
            " Loss value: 79.15026708642914\n",
            " \n",
            " Epoch count: 22 \n",
            " Loss value: 72.59381945685891\n",
            " \n",
            " Epoch count: 23 \n",
            " Loss value: 66.79429961867137\n",
            " \n",
            " Epoch count: 24 \n",
            " Loss value: 61.65597304621418\n",
            " \n",
            " Epoch count: 25 \n",
            " Loss value: 57.09631187968357\n",
            " \n",
            " Epoch count: 26 \n",
            " Loss value: 53.04381991181458\n",
            " \n",
            " Epoch count: 27 \n",
            " Loss value: 49.436332306171735\n",
            " \n",
            " Epoch count: 28 \n",
            " Loss value: 46.21965396039057\n",
            " \n",
            " Epoch count: 29 \n",
            " Loss value: 43.346446269579786\n",
            " \n",
            " Epoch count: 30 \n",
            " Loss value: 40.77530135033568\n",
            " \n",
            " Epoch count: 31 \n",
            " Loss value: 38.46996166894166\n",
            " \n",
            " Epoch count: 32 \n",
            " Loss value: 36.398655312953686\n",
            " \n",
            " Epoch count: 33 \n",
            " Loss value: 34.5335252607199\n",
            " \n",
            " Epoch count: 34 \n",
            " Loss value: 32.85013645164273\n",
            " \n",
            " Epoch count: 35 \n",
            " Loss value: 31.327048194185025\n",
            " \n",
            " Epoch count: 36 \n",
            " Loss value: 29.945442070535897\n",
            " \n",
            " Epoch count: 37 \n",
            " Loss value: 28.688797387876054\n",
            " \n",
            " Epoch count: 38 \n",
            " Loss value: 27.542607629195647\n",
            " \n",
            " Epoch count: 39 \n",
            " Loss value: 26.494132427354952\n"
          ],
          "name": "stdout"
        }
      ]
    }
  ]
}