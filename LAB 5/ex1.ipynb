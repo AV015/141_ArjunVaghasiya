{
  "nbformat": 4,
  "nbformat_minor": 0,
  "metadata": {
    "colab": {
      "name": "ex1.ipynb",
      "provenance": []
    },
    "kernelspec": {
      "name": "python3",
      "display_name": "Python 3",
      "language": "python"
    },
    "language_info": {
      "name": "python",
      "version": "3.6.13",
      "mimetype": "text/x-python",
      "codemirror_mode": {
        "name": "ipython",
        "version": 3
      },
      "pygments_lexer": "ipython3",
      "nbconvert_exporter": "python",
      "file_extension": ".py"
    }
  },
  "cells": [
    {
      "cell_type": "markdown",
      "metadata": {
        "id": "0eXVUpoKZwNr"
      },
      "source": [
        "#Task 1 :Try Linear Regression just using numpy (Without Tensorflow/Pytorch or other torch library)."
      ]
    },
    {
      "cell_type": "code",
      "metadata": {
        "id": "W6NK3ltgYHJ3",
        "trusted": true
      },
      "source": [
        "import numpy as np\n",
        "from sklearn.linear_model import LinearRegression"
      ],
      "execution_count": 1,
      "outputs": []
    },
    {
      "cell_type": "code",
      "metadata": {
        "colab": {
          "base_uri": "https://localhost:8080/"
        },
        "id": "lHVGJ7nNYHJ4",
        "trusted": true,
        "outputId": "aa1bb92f-43bf-40e2-d4fc-36ca208acde2"
      },
      "source": [
        "inputs = np.array([[73, 67, 43],\n",
        "                    [91, 88, 64],\n",
        "                    [87, 134, 58],\n",
        "                    [102, 43, 37],\n",
        "                    [69, 96, 70],\n",
        "                    [73, 67, 43],\n",
        "                    [91, 88, 64],\n",
        "                    [87, 134, 58],\n",
        "                    [102, 43, 37],\n",
        "                    [69, 96, 70],\n",
        "                    [73, 67, 43], \n",
        "                    [91, 88, 64], \n",
        "                    [87, 134, 58], \n",
        "                    [102, 43, 37], \n",
        "                    [69, 96, 70]], dtype='float32')\n",
        "print(inputs.shape)"
      ],
      "execution_count": 2,
      "outputs": [
        {
          "output_type": "stream",
          "text": [
            "(15, 3)\n"
          ],
          "name": "stdout"
        }
      ]
    },
    {
      "cell_type": "code",
      "metadata": {
        "id": "3NunoIBCYHJ6",
        "trusted": true
      },
      "source": [
        "targets = np.array([[56, 70], [81, 101], [119, 133], [22, 37], [103, 119],\n",
        "[56, 70], [81, 101], [119, 133], [22, 37], [103, 119],\n",
        "[56, 70], [81, 101], [119, 133], [22, 37], [103, 119]], dtype='float32')"
      ],
      "execution_count": 3,
      "outputs": []
    },
    {
      "cell_type": "code",
      "metadata": {
        "id": "GGlX1RMbYHJ6",
        "trusted": true
      },
      "source": [
        "from sklearn.model_selection import train_test_split\n",
        "x_train,x_test,y_train,y_test = train_test_split(inputs,targets,test_size=0.3, random_state=141)"
      ],
      "execution_count": 4,
      "outputs": []
    },
    {
      "cell_type": "code",
      "metadata": {
        "colab": {
          "base_uri": "https://localhost:8080/"
        },
        "id": "_7ez_dU0YHJ7",
        "trusted": true,
        "outputId": "98413b42-681f-4b41-a8cb-517e6e7378b7"
      },
      "source": [
        "reg = LinearRegression().fit(x_train,y_train)\n",
        "print(reg)"
      ],
      "execution_count": 5,
      "outputs": [
        {
          "output_type": "stream",
          "text": [
            "LinearRegression(copy_X=True, fit_intercept=True, n_jobs=None, normalize=False)\n"
          ],
          "name": "stdout"
        }
      ]
    },
    {
      "cell_type": "code",
      "metadata": {
        "colab": {
          "base_uri": "https://localhost:8080/"
        },
        "id": "qisKJXBxYHJ8",
        "trusted": true,
        "outputId": "93e68aea-aa80-4f82-8d28-c64feaf8cd45"
      },
      "source": [
        "print(reg.intercept_)\n",
        "print(reg.coef_)"
      ],
      "execution_count": 6,
      "outputs": [
        {
          "output_type": "stream",
          "text": [
            "[ 1.5290222 -2.4401703]\n",
            "[[-0.39774865  0.8547424   0.6435846 ]\n",
            " [-0.28444573  0.7935169   0.92880213]]\n"
          ],
          "name": "stdout"
        }
      ]
    },
    {
      "cell_type": "code",
      "metadata": {
        "colab": {
          "base_uri": "https://localhost:8080/"
        },
        "id": "-wIb51_WYHJ9",
        "trusted": true,
        "outputId": "3a35c4b3-870e-4c47-d7bc-808191a4e5c6"
      },
      "source": [
        "y_pred = reg.predict(x_test)\n",
        "print(y_pred,\"\\n\")\n",
        "print(y_test)"
      ],
      "execution_count": 7,
      "outputs": [
        {
          "output_type": "stream",
          "text": [
            "[[118.78828  133.01483 ]\n",
            " [101.19056  119.12685 ]\n",
            " [101.19056  119.12685 ]\n",
            " [ 57.43525   69.899414]\n",
            " [ 57.43525   69.899414]] \n",
            "\n",
            "[[119. 133.]\n",
            " [103. 119.]\n",
            " [103. 119.]\n",
            " [ 56.  70.]\n",
            " [ 56.  70.]]\n"
          ],
          "name": "stdout"
        }
      ]
    },
    {
      "cell_type": "code",
      "metadata": {
        "colab": {
          "base_uri": "https://localhost:8080/"
        },
        "id": "yrVwSpngYHJ-",
        "trusted": true,
        "outputId": "256b7123-7454-4fd8-c8c5-a7793a078f2c"
      },
      "source": [
        "from sklearn import metrics\n",
        "print('\\n Mean Squared Error:', metrics.mean_squared_error(y_test, y_pred))"
      ],
      "execution_count": 8,
      "outputs": [
        {
          "output_type": "stream",
          "text": [
            "\n",
            " Mean Squared Error: 1.0765493\n"
          ],
          "name": "stdout"
        }
      ]
    }
  ]
}