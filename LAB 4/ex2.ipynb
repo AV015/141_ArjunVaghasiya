{
  "nbformat": 4,
  "nbformat_minor": 0,
  "metadata": {
    "colab": {
      "name": "ex2.ipynb",
      "provenance": [],
      "collapsed_sections": []
    },
    "kernelspec": {
      "name": "python3",
      "display_name": "Python 3",
      "language": "python"
    },
    "language_info": {
      "name": "python",
      "version": "3.6.13",
      "mimetype": "text/x-python",
      "codemirror_mode": {
        "name": "ipython",
        "version": 3
      },
      "pygments_lexer": "ipython3",
      "nbconvert_exporter": "python",
      "file_extension": ".py"
    }
  },
  "cells": [
    {
      "cell_type": "markdown",
      "metadata": {
        "id": "8-oXiSGwTFGJ"
      },
      "source": [
        "#Task 2: Apply algorithm on wine dataset - LabelEncoding of features: and Train test Division 66%-34%"
      ]
    },
    {
      "cell_type": "code",
      "metadata": {
        "id": "19-VWLo5dRM_",
        "trusted": true
      },
      "source": [
        "#Import scikit-learn dataset library\n",
        "from sklearn import datasets\n",
        "from sklearn.tree import DecisionTreeClassifier\n",
        "import pandas as pd\n",
        "import numpy as np\n",
        "\n",
        "#Load dataset\n",
        "data = datasets.load_wine()"
      ],
      "execution_count": 1,
      "outputs": []
    },
    {
      "cell_type": "code",
      "metadata": {
        "colab": {
          "base_uri": "https://localhost:8080/"
        },
        "id": "STpVNWyrdRNb",
        "trusted": true,
        "outputId": "211274a4-afbb-4af5-a5dd-57889197d092"
      },
      "source": [
        "# print the names of the features\n",
        "print(\"Features: \", data.feature_names)\n",
        "\n",
        "# print the label type of wine dataset\n",
        "print(\"\\n class: \\n\",data.target_names)\n",
        "\n",
        "# print data(feature)shape\n",
        "print( \"\\n\",data.data.shape)"
      ],
      "execution_count": 2,
      "outputs": [
        {
          "output_type": "stream",
          "text": [
            "Features:  ['alcohol', 'malic_acid', 'ash', 'alcalinity_of_ash', 'magnesium', 'total_phenols', 'flavanoids', 'nonflavanoid_phenols', 'proanthocyanins', 'color_intensity', 'hue', 'od280/od315_of_diluted_wines', 'proline']\n",
            "\n",
            " class: \n",
            " ['class_0' 'class_1' 'class_2']\n",
            "\n",
            " (178, 13)\n"
          ],
          "name": "stdout"
        }
      ]
    },
    {
      "cell_type": "code",
      "metadata": {
        "id": "SNoEzna3dRN2",
        "trusted": true
      },
      "source": [
        "#import the necessary module\n",
        "from sklearn.model_selection import train_test_split\n",
        "\n",
        "#split data set into train and test sets\n",
        "data_train, data_test, target_train, target_test = train_test_split(data.data,data.target, test_size = 0.34, random_state = 141)"
      ],
      "execution_count": 3,
      "outputs": []
    },
    {
      "cell_type": "code",
      "metadata": {
        "colab": {
          "base_uri": "https://localhost:8080/"
        },
        "id": "CRct6OrjdROI",
        "trusted": true,
        "outputId": "897ffb7f-453e-4b9b-d8d9-aa902de384d9"
      },
      "source": [
        "#Create a Decision Tree Classifier (using Gini)\n",
        "cli=DecisionTreeClassifier(criterion='gini',max_leaf_nodes=100)\n",
        "cli.fit(data_train,target_train)\n",
        "\n",
        "#Train the model using the training sets\n"
      ],
      "execution_count": 4,
      "outputs": [
        {
          "output_type": "execute_result",
          "data": {
            "text/plain": [
              "DecisionTreeClassifier(ccp_alpha=0.0, class_weight=None, criterion='gini',\n",
              "                       max_depth=None, max_features=None, max_leaf_nodes=100,\n",
              "                       min_impurity_decrease=0.0, min_impurity_split=None,\n",
              "                       min_samples_leaf=1, min_samples_split=2,\n",
              "                       min_weight_fraction_leaf=0.0, presort='deprecated',\n",
              "                       random_state=None, splitter='best')"
            ]
          },
          "metadata": {},
          "execution_count": 4
        }
      ]
    },
    {
      "cell_type": "code",
      "metadata": {
        "colab": {
          "base_uri": "https://localhost:8080/"
        },
        "id": "EUmpqOTcdROY",
        "trusted": true,
        "outputId": "dd03620d-c778-4298-c86d-1a8cade38f24"
      },
      "source": [
        "# Predict the classes of test data\n",
        "\n",
        "\n",
        "prediction=cli.predict(data_test)\n",
        "\n",
        "#print(test_pred.dtype)\n",
        "\n",
        "prediction.dtype"
      ],
      "execution_count": 5,
      "outputs": [
        {
          "output_type": "execute_result",
          "data": {
            "text/plain": [
              "dtype('int64')"
            ]
          },
          "metadata": {},
          "execution_count": 5
        }
      ]
    },
    {
      "cell_type": "code",
      "metadata": {
        "colab": {
          "base_uri": "https://localhost:8080/"
        },
        "id": "ygJOfDiAdROs",
        "trusted": true,
        "outputId": "9ecbae64-0361-4f09-8d21-794875d19249"
      },
      "source": [
        "from sklearn import metrics\n",
        "# Model Accuracy, how often is the classifier correct?\n",
        "\n",
        "print(\"Accuracy :\",metrics.accuracy_score(target_test,prediction))\n"
      ],
      "execution_count": 6,
      "outputs": [
        {
          "output_type": "stream",
          "text": [
            "Accuracy : 0.8852459016393442\n"
          ],
          "name": "stdout"
        }
      ]
    },
    {
      "cell_type": "code",
      "metadata": {
        "colab": {
          "base_uri": "https://localhost:8080/"
        },
        "id": "n2qEF6RvTFGi",
        "trusted": true,
        "outputId": "516012b8-37e6-4f58-fc1a-0ed8ffa1407e"
      },
      "source": [
        "from sklearn.metrics import precision_score\n",
        "from sklearn.metrics import recall_score\n",
        "precision = precision_score(target_test, prediction,average=None)\n",
        "recall = recall_score(target_test, prediction,average=None)\n",
        "print('precision: \\n {}'.format(precision))\n",
        "print('\\n')\n",
        "print('recall: \\n {}'.format(recall))"
      ],
      "execution_count": 7,
      "outputs": [
        {
          "output_type": "stream",
          "text": [
            "precision: \n",
            " [0.875      0.875      0.92307692]\n",
            "\n",
            "\n",
            "recall: \n",
            " [0.875      0.875      0.92307692]\n"
          ],
          "name": "stdout"
        }
      ]
    }
  ]
}